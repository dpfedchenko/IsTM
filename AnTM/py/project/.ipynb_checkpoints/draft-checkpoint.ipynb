{
 "cells": [
  {
   "cell_type": "code",
   "execution_count": 5,
   "id": "adabcddc-7322-4c4b-81be-8e4590485147",
   "metadata": {},
   "outputs": [],
   "source": [
    "import numpy as np"
   ]
  },
  {
   "cell_type": "code",
   "execution_count": 19,
   "id": "b801b2a2-a2cb-4916-98ea-709e80bd33fc",
   "metadata": {},
   "outputs": [],
   "source": [
    "def nan(x, y):\n",
    "    a = [x]\n",
    "    b = [y]\n",
    "    c = [5*x]\n",
    "\n",
    "    return a, b, c\n",
    "    "
   ]
  },
  {
   "cell_type": "code",
   "execution_count": 20,
   "id": "8efb4727-e9ad-4da4-9d76-3936f2aecfdd",
   "metadata": {},
   "outputs": [],
   "source": [
    "i = nan(2,3)[2]"
   ]
  },
  {
   "cell_type": "code",
   "execution_count": 21,
   "id": "060a7aa6-532a-4db3-9e4f-5d4a8e689774",
   "metadata": {},
   "outputs": [
    {
     "data": {
      "text/plain": [
       "[10]"
      ]
     },
     "execution_count": 21,
     "metadata": {},
     "output_type": "execute_result"
    }
   ],
   "source": [
    "i"
   ]
  },
  {
   "cell_type": "code",
   "execution_count": 22,
   "id": "29f91386-4170-4e27-af53-9426a5ad2e52",
   "metadata": {},
   "outputs": [],
   "source": [
    "i.append(4)"
   ]
  },
  {
   "cell_type": "code",
   "execution_count": 23,
   "id": "7f01ec50-981c-41ce-842e-35edbbac1152",
   "metadata": {},
   "outputs": [
    {
     "data": {
      "text/plain": [
       "[10, 4]"
      ]
     },
     "execution_count": 23,
     "metadata": {},
     "output_type": "execute_result"
    }
   ],
   "source": [
    "i"
   ]
  },
  {
   "cell_type": "code",
   "execution_count": 24,
   "id": "6e525621-472c-4b37-9c28-80bfffacf954",
   "metadata": {},
   "outputs": [],
   "source": [
    "t_ac10e5 = 0.9997651291018691\n",
    "w_ac10e5 = 3.8691280182128756"
   ]
  },
  {
   "cell_type": "code",
   "execution_count": null,
   "id": "31cd1de1-ce25-4e75-9dd5-c6373c7007ae",
   "metadata": {},
   "outputs": [],
   "source": [
    "t_ac10e6 = 0.9997651291018691\n",
    "w_ac10e6 = 3.8691280182128756"
   ]
  }
 ],
 "metadata": {
  "kernelspec": {
   "display_name": "Python 3 (ipykernel)",
   "language": "python",
   "name": "python3"
  },
  "language_info": {
   "codemirror_mode": {
    "name": "ipython",
    "version": 3
   },
   "file_extension": ".py",
   "mimetype": "text/x-python",
   "name": "python",
   "nbconvert_exporter": "python",
   "pygments_lexer": "ipython3",
   "version": "3.12.4"
  }
 },
 "nbformat": 4,
 "nbformat_minor": 5
}
