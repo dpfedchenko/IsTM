{
 "cells": [
  {
   "cell_type": "code",
   "execution_count": 18,
   "id": "1adddc31",
   "metadata": {},
   "outputs": [],
   "source": [
    "import numpy as np"
   ]
  },
  {
   "cell_type": "code",
   "execution_count": null,
   "id": "8d2a6304",
   "metadata": {},
   "outputs": [],
   "source": []
  },
  {
   "cell_type": "code",
   "execution_count": 19,
   "id": "516188bf",
   "metadata": {},
   "outputs": [],
   "source": [
    "I = complex(0, 1)\n",
    "Pi = np.pi"
   ]
  },
  {
   "cell_type": "code",
   "execution_count": 20,
   "id": "5287dd1d",
   "metadata": {},
   "outputs": [],
   "source": [
    "angle = 90\n",
    "delta = angle * (np.pi / 180)"
   ]
  },
  {
   "cell_type": "code",
   "execution_count": null,
   "id": "edcf52d3",
   "metadata": {},
   "outputs": [],
   "source": []
  },
  {
   "cell_type": "code",
   "execution_count": 21,
   "id": "dd7bcd9e",
   "metadata": {},
   "outputs": [],
   "source": [
    "K20 = 1 / 0.9\n",
    "K2 = 1/0.4\n",
    "K_steps = 10\n",
    "K = np.arange(K20, K2+(K2-K20)/K_steps, (K2-K20)/K_steps)"
   ]
  },
  {
   "cell_type": "code",
   "execution_count": 22,
   "id": "2f158e72",
   "metadata": {},
   "outputs": [
    {
     "data": {
      "text/plain": [
       "'\\npitch=0.4533\\nL1 = 3\\nL2 = 2\\n\\nQ_N_pitch1 = 165\\nQ_N_pitch2 = 110\\nN_pitch1 = L1 / pitch\\nN_pitch2 = L2 / pitch\\n\\nQ1 = Q_N_pitch1 / N_pitch1\\nQ2 = Q_N_pitch2 / N_pitch2\\n'"
      ]
     },
     "execution_count": 22,
     "metadata": {},
     "output_type": "execute_result"
    }
   ],
   "source": [
    "'''\n",
    "pitch=0.4533\n",
    "L1 = 3\n",
    "L2 = 2\n",
    "\n",
    "Q_N_pitch1 = 165\n",
    "Q_N_pitch2 = 110\n",
    "N_pitch1 = L1 / pitch\n",
    "N_pitch2 = L2 / pitch\n",
    "\n",
    "Q1 = Q_N_pitch1 / N_pitch1\n",
    "Q2 = Q_N_pitch2 / N_pitch2\n",
    "'''"
   ]
  },
  {
   "cell_type": "code",
   "execution_count": 23,
   "id": "2ad5d33e",
   "metadata": {},
   "outputs": [
    {
     "data": {
      "text/plain": [
       "'\\nNoC = 1.42\\nNeC = 1.57\\n'"
      ]
     },
     "execution_count": 23,
     "metadata": {},
     "output_type": "execute_result"
    }
   ],
   "source": [
    "'''\n",
    "NoC = 1.42\n",
    "NeC = 1.57\n",
    "'''"
   ]
  },
  {
   "cell_type": "code",
   "execution_count": 24,
   "id": "57ce4b1f",
   "metadata": {},
   "outputs": [],
   "source": [
    "#Fo = np.exp(I*2*Pi*K*pitch/Q1*NoC)"
   ]
  },
  {
   "cell_type": "code",
   "execution_count": 29,
   "id": "2d52a477",
   "metadata": {},
   "outputs": [],
   "source": [
    "def T1_matrix(K, pitch, Q_N_pitch1, L1, NoC, NeC):   \n",
    "    \n",
    "    N_pitch1 = L1 / pitch\n",
    "    Q1 = Q_N_pitch1 / N_pitch1\n",
    "    \n",
    "    delta = 2 * np.pi / Q1\n",
    "    \n",
    "    Fo = np.exp(I*2*Pi*K*pitch/Q1*NoC)\n",
    "    Fe = np.exp(I*2*Pi*K*pitch/Q1*NeC)\n",
    "    \n",
    "    No = NoC\n",
    "    Ne = NeC\n",
    "    \n",
    "    T1 = np.zeros((4, 4))\n",
    "\n",
    "    T1[0][0] = np.cos(delta)/Fo \n",
    "    T1[0][1] = 0\n",
    "    T1[0][2] = -(1/2)*np.sin(delta)*(No+Ne)/(No*Fe)\n",
    "    T1[0][3] = (1/2)*Fe*np.sin(delta)*(-No+Ne)/No\n",
    "\n",
    "    T1[1][0] = 0\n",
    "    T1[1][1] = Fo*np.cos(delta) \n",
    "    T1[1][2] = (1/2)*np.sin(delta)*(-No+Ne)/(No*Fe) \n",
    "    T1[1][3] = -(1/2)*Fe*np.sin(delta)*(No+Ne)/No\n",
    "\n",
    "    T1[2][0] = (1/2)*np.sin(delta)*(No+Ne)/(Ne*Fo) \n",
    "    T1[2][1] = (1/2)*Fo*np.sin(delta)*(-No+Ne)/Ne \n",
    "    T1[2][2] = np.cos(delta)/Fe \n",
    "    T1[2][3] = 0\n",
    "\n",
    "    T1[3][0] = (1/2)*np.sin(delta)*(-No+Ne)/(Ne*Fo) \n",
    "    T1[3][1] = (1/2)*Fo*np.sin(delta)*(No+Ne)/Ne \n",
    "    T1[3][2] = 0 \n",
    "    T1[3][3] = Fe*np.cos(delta)\n",
    "    \n",
    "    return T1"
   ]
  },
  {
   "cell_type": "code",
   "execution_count": 30,
   "id": "683f039f",
   "metadata": {},
   "outputs": [],
   "source": [
    "def T2_matrix(K, pitch, Q_N_pitch2, L2, NoC, NeC):   \n",
    "    \n",
    "    N_pitch2 = L2 / pitch\n",
    "    Q2 = Q_N_pitch2 / N_pitch2\n",
    "    \n",
    "    delta = 2 * np.pi / Q2\n",
    "    \n",
    "    Fo = np.exp(I*2*Pi*K*pitch/Q2*NoC)\n",
    "    Fe = np.exp(I*2*Pi*K*pitch/Q2*NeC)\n",
    "    \n",
    "    No = NoC\n",
    "    Ne = NeC\n",
    "    \n",
    "    T2 = np.zeros((4, 4))\n",
    "\n",
    "    T2[0][0] = np.cos(delta)/Fo \n",
    "    T2[0][1] = 0\n",
    "    T2[0][2] = -(1/2)*np.sin(delta)*(No+Ne)/(No*Fe)\n",
    "    T2[0][3] = (1/2)*Fe*np.sin(delta)*(-No+Ne)/No\n",
    "\n",
    "    T2[1][0] = 0\n",
    "    T2[1][1] = Fo*np.cos(delta) \n",
    "    T2[1][2] = (1/2)*np.sin(delta)*(-No+Ne)/(No*Fe) \n",
    "    T2[1][3] = -(1/2)*Fe*np.sin(delta)*(No+Ne)/No\n",
    "\n",
    "    T2[2][0] = (1/2)*np.sin(delta)*(No+Ne)/(Ne*Fo) \n",
    "    T2[2][1] = (1/2)*Fo*np.sin(delta)*(-No+Ne)/Ne \n",
    "    T2[2][2] = np.cos(delta)/Fe \n",
    "    T2[2][3] = 0\n",
    "\n",
    "    T2[3][0] = (1/2)*np.sin(delta)*(-No+Ne)/(Ne*Fo) \n",
    "    T2[3][1] = (1/2)*Fo*np.sin(delta)*(No+Ne)/Ne \n",
    "    T2[3][2] = 0 \n",
    "    T2[3][3] = Fe*np.cos(delta)\n",
    "    \n",
    "    return T2"
   ]
  },
  {
   "cell_type": "code",
   "execution_count": 40,
   "id": "907a7823",
   "metadata": {},
   "outputs": [],
   "source": [
    "def TD_matrix(K, Ld, Nd, NoC, NeC):\n",
    "    delta = 0\n",
    "    \n",
    "    FeD = np.exp(I*2*Pi*K*Ld*Nd)\n",
    "    Fo = FeD\n",
    "    Fe = FeD\n",
    "    \n",
    "    N0 = (NoC + NeC) / 2\n",
    "    \n",
    "    No = N0\n",
    "    Ne = N0\n",
    "    \n",
    "    TD = np.zeros((4, 4))\n",
    "\n",
    "    TD[0][0] = np.cos(delta)/Fo \n",
    "    TD[0][1] = 0\n",
    "    TD[0][2] = -(1/2)*np.sin(delta)*(No+Ne)/(No*Fe)\n",
    "    TD[0][3] = (1/2)*Fe*np.sin(delta)*(-No+Ne)/No\n",
    "\n",
    "    TD[1][0] = 0\n",
    "    TD[1][1] = Fo*np.cos(delta) \n",
    "    TD[1][2] = (1/2)*np.sin(delta)*(-No+Ne)/(No*Fe) \n",
    "    TD[1][3] = -(1/2)*Fe*np.sin(delta)*(No+Ne)/No\n",
    "\n",
    "    TD[2][0] = (1/2)*np.sin(delta)*(No+Ne)/(Ne*Fo) \n",
    "    TD[2][1] = (1/2)*Fo*np.sin(delta)*(-No+Ne)/Ne \n",
    "    TD[2][2] = np.cos(delta)/Fe \n",
    "    TD[2][3] = 0\n",
    "\n",
    "    TD[3][0] = (1/2)*np.sin(delta)*(-No+Ne)/(Ne*Fo) \n",
    "    TD[3][1] = (1/2)*Fo*np.sin(delta)*(No+Ne)/Ne \n",
    "    TD[3][2] = 0 \n",
    "    TD[3][3] = Fe*np.cos(delta)\n",
    "    \n",
    "    return TD"
   ]
  },
  {
   "cell_type": "code",
   "execution_count": 44,
   "id": "5950f1ae",
   "metadata": {},
   "outputs": [
    {
     "name": "stdout",
     "output_type": "stream",
     "text": [
      " T1: \n",
      " [[ 0.95569703  0.         -0.25831771  0.01295908]\n",
      " [ 0.          0.95569703  0.01295908 -0.25831771]\n",
      " [ 0.23432921  0.01175565  0.95287664  0.        ]\n",
      " [ 0.01175565  0.23432921  0.          0.95287664]] \n",
      "\n",
      " T2: \n",
      " [[ 0.95569703  0.         -0.25831771  0.01295908]\n",
      " [ 0.          0.95569703  0.01295908 -0.25831771]\n",
      " [ 0.23432921  0.01175565  0.95287664  0.        ]\n",
      " [ 0.01175565  0.23432921  0.          0.95287664]] \n",
      "\n",
      " TD: \n",
      " [[0.48462275 0.         0.         0.        ]\n",
      " [0.         0.47918623 0.         0.        ]\n",
      " [0.         0.         0.48462275 0.        ]\n",
      " [0.         0.         0.         0.47918623]] \n",
      "\n"
     ]
    },
    {
     "name": "stderr",
     "output_type": "stream",
     "text": [
      "C:\\Users\\Dieter\\AppData\\Local\\Temp\\ipykernel_13196\\522032355.py:16: ComplexWarning: Casting complex values to real discards the imaginary part\n",
      "  T1[0][0] = np.cos(delta)/Fo\n",
      "C:\\Users\\Dieter\\AppData\\Local\\Temp\\ipykernel_13196\\522032355.py:18: ComplexWarning: Casting complex values to real discards the imaginary part\n",
      "  T1[0][2] = -(1/2)*np.sin(delta)*(No+Ne)/(No*Fe)\n",
      "C:\\Users\\Dieter\\AppData\\Local\\Temp\\ipykernel_13196\\522032355.py:19: ComplexWarning: Casting complex values to real discards the imaginary part\n",
      "  T1[0][3] = (1/2)*Fe*np.sin(delta)*(-No+Ne)/No\n",
      "C:\\Users\\Dieter\\AppData\\Local\\Temp\\ipykernel_13196\\522032355.py:22: ComplexWarning: Casting complex values to real discards the imaginary part\n",
      "  T1[1][1] = Fo*np.cos(delta)\n",
      "C:\\Users\\Dieter\\AppData\\Local\\Temp\\ipykernel_13196\\522032355.py:23: ComplexWarning: Casting complex values to real discards the imaginary part\n",
      "  T1[1][2] = (1/2)*np.sin(delta)*(-No+Ne)/(No*Fe)\n",
      "C:\\Users\\Dieter\\AppData\\Local\\Temp\\ipykernel_13196\\522032355.py:24: ComplexWarning: Casting complex values to real discards the imaginary part\n",
      "  T1[1][3] = -(1/2)*Fe*np.sin(delta)*(No+Ne)/No\n",
      "C:\\Users\\Dieter\\AppData\\Local\\Temp\\ipykernel_13196\\522032355.py:26: ComplexWarning: Casting complex values to real discards the imaginary part\n",
      "  T1[2][0] = (1/2)*np.sin(delta)*(No+Ne)/(Ne*Fo)\n",
      "C:\\Users\\Dieter\\AppData\\Local\\Temp\\ipykernel_13196\\522032355.py:27: ComplexWarning: Casting complex values to real discards the imaginary part\n",
      "  T1[2][1] = (1/2)*Fo*np.sin(delta)*(-No+Ne)/Ne\n",
      "C:\\Users\\Dieter\\AppData\\Local\\Temp\\ipykernel_13196\\522032355.py:28: ComplexWarning: Casting complex values to real discards the imaginary part\n",
      "  T1[2][2] = np.cos(delta)/Fe\n",
      "C:\\Users\\Dieter\\AppData\\Local\\Temp\\ipykernel_13196\\522032355.py:31: ComplexWarning: Casting complex values to real discards the imaginary part\n",
      "  T1[3][0] = (1/2)*np.sin(delta)*(-No+Ne)/(Ne*Fo)\n",
      "C:\\Users\\Dieter\\AppData\\Local\\Temp\\ipykernel_13196\\522032355.py:32: ComplexWarning: Casting complex values to real discards the imaginary part\n",
      "  T1[3][1] = (1/2)*Fo*np.sin(delta)*(No+Ne)/Ne\n",
      "C:\\Users\\Dieter\\AppData\\Local\\Temp\\ipykernel_13196\\522032355.py:34: ComplexWarning: Casting complex values to real discards the imaginary part\n",
      "  T1[3][3] = Fe*np.cos(delta)\n",
      "C:\\Users\\Dieter\\AppData\\Local\\Temp\\ipykernel_13196\\2251417942.py:15: ComplexWarning: Casting complex values to real discards the imaginary part\n",
      "  TD[0][0] = np.cos(delta)/Fo\n",
      "C:\\Users\\Dieter\\AppData\\Local\\Temp\\ipykernel_13196\\2251417942.py:17: ComplexWarning: Casting complex values to real discards the imaginary part\n",
      "  TD[0][2] = -(1/2)*np.sin(delta)*(No+Ne)/(No*Fe)\n",
      "C:\\Users\\Dieter\\AppData\\Local\\Temp\\ipykernel_13196\\2251417942.py:21: ComplexWarning: Casting complex values to real discards the imaginary part\n",
      "  TD[1][1] = Fo*np.cos(delta)\n",
      "C:\\Users\\Dieter\\AppData\\Local\\Temp\\ipykernel_13196\\2251417942.py:25: ComplexWarning: Casting complex values to real discards the imaginary part\n",
      "  TD[2][0] = (1/2)*np.sin(delta)*(No+Ne)/(Ne*Fo)\n",
      "C:\\Users\\Dieter\\AppData\\Local\\Temp\\ipykernel_13196\\2251417942.py:30: ComplexWarning: Casting complex values to real discards the imaginary part\n",
      "  TD[3][0] = (1/2)*np.sin(delta)*(-No+Ne)/(Ne*Fo)\n",
      "C:\\Users\\Dieter\\AppData\\Local\\Temp\\ipykernel_13196\\2251417942.py:33: ComplexWarning: Casting complex values to real discards the imaginary part\n",
      "  TD[3][3] = Fe*np.cos(delta)\n"
     ]
    }
   ],
   "source": [
    "print(f' T1: \\n {T1_matrix(1, 0.4533, 165, 3, 1.42, 1.57)} \\n')\n",
    "print(f' T2: \\n {T2_matrix(1, 0.4533, 110, 2, 1.42, 1.57)} \\n')\n",
    "print(f' TD: \\n {TD_matrix(1, 0.1197, 1.42+0.0075j, 1.42, 1.57)} \\n')"
   ]
  },
  {
   "cell_type": "code",
   "execution_count": null,
   "id": "2e5f02f6",
   "metadata": {},
   "outputs": [],
   "source": []
  }
 ],
 "metadata": {
  "kernelspec": {
   "display_name": "Python 3 (ipykernel)",
   "language": "python",
   "name": "python3"
  },
  "language_info": {
   "codemirror_mode": {
    "name": "ipython",
    "version": 3
   },
   "file_extension": ".py",
   "mimetype": "text/x-python",
   "name": "python",
   "nbconvert_exporter": "python",
   "pygments_lexer": "ipython3",
   "version": "3.9.13"
  }
 },
 "nbformat": 4,
 "nbformat_minor": 5
}
