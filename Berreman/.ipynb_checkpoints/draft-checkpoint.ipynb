{
 "cells": [
  {
   "cell_type": "code",
   "execution_count": 1,
   "id": "45f5326a",
   "metadata": {},
   "outputs": [],
   "source": [
    "import numpy as np"
   ]
  },
  {
   "cell_type": "code",
   "execution_count": 26,
   "id": "dadaf211",
   "metadata": {},
   "outputs": [],
   "source": [
    "angle = 90\n",
    "delta = angle * (np.pi / 180)\n",
    "I = complex(0, 1)\n",
    "Pi = np.pi\n",
    "K = 3\n",
    "pitch=0.4533\n",
    "L1 = 3\n",
    "L2 = 2\n",
    "\n",
    "Q_N_pitch1 = 165\n",
    "Q_N_pitch2 = 110\n",
    "N_pitch1 = L1 / pitch\n",
    "N_pitch2 = L2 / pitch\n",
    "\n",
    "Q1 = Q_N_pitch1 / N_pitch1\n",
    "Q2 = Q_N_pitch2 / N_pitch2\n",
    "\n",
    "NoC = 1.42\n",
    "NeC = 1.57\n",
    "\n",
    "No = NoC\n",
    "Ne = NeC"
   ]
  },
  {
   "cell_type": "code",
   "execution_count": 29,
   "id": "5812fb92",
   "metadata": {},
   "outputs": [],
   "source": [
    "Fo = np.exp(I*2*Pi*K*pitch/Q1*NoC)\n",
    "Fe = np.exp(I*2*Pi*K*pitch/Q1*NeC)"
   ]
  },
  {
   "cell_type": "code",
   "execution_count": 30,
   "id": "9d06060a",
   "metadata": {},
   "outputs": [
    {
     "name": "stderr",
     "output_type": "stream",
     "text": [
      "C:\\Users\\Dieter\\AppData\\Local\\Temp\\ipykernel_15976\\1800817001.py:3: ComplexWarning: Casting complex values to real discards the imaginary part\n",
      "  T1[0][0] = np.cos(delta)/Fo\n",
      "C:\\Users\\Dieter\\AppData\\Local\\Temp\\ipykernel_15976\\1800817001.py:5: ComplexWarning: Casting complex values to real discards the imaginary part\n",
      "  T1[0][2] = -(1/2)*np.sin(delta)*(No+Ne)/(No*Fe)\n",
      "C:\\Users\\Dieter\\AppData\\Local\\Temp\\ipykernel_15976\\1800817001.py:6: ComplexWarning: Casting complex values to real discards the imaginary part\n",
      "  T1[0][3] = (1/2)*Fe*np.sin(delta)*(-No+Ne)/No\n",
      "C:\\Users\\Dieter\\AppData\\Local\\Temp\\ipykernel_15976\\1800817001.py:9: ComplexWarning: Casting complex values to real discards the imaginary part\n",
      "  T1[1][1] = Fo*np.cos(delta)\n",
      "C:\\Users\\Dieter\\AppData\\Local\\Temp\\ipykernel_15976\\1800817001.py:10: ComplexWarning: Casting complex values to real discards the imaginary part\n",
      "  T1[1][2] = (1/2)*np.sin(delta)*(-No+Ne)/(No*Fe)\n",
      "C:\\Users\\Dieter\\AppData\\Local\\Temp\\ipykernel_15976\\1800817001.py:11: ComplexWarning: Casting complex values to real discards the imaginary part\n",
      "  T1[1][3] = -(1/2)*Fe*np.sin(delta)*(No+Ne)/No\n",
      "C:\\Users\\Dieter\\AppData\\Local\\Temp\\ipykernel_15976\\1800817001.py:13: ComplexWarning: Casting complex values to real discards the imaginary part\n",
      "  T1[2][0] = (1/2)*np.sin(delta)*(No+Ne)/(Ne*Fo)\n",
      "C:\\Users\\Dieter\\AppData\\Local\\Temp\\ipykernel_15976\\1800817001.py:14: ComplexWarning: Casting complex values to real discards the imaginary part\n",
      "  T1[2][1] = (1/2)*Fo*np.sin(delta)*(-No+Ne)/Ne\n",
      "C:\\Users\\Dieter\\AppData\\Local\\Temp\\ipykernel_15976\\1800817001.py:15: ComplexWarning: Casting complex values to real discards the imaginary part\n",
      "  T1[2][2] = np.cos(delta)/Fe\n",
      "C:\\Users\\Dieter\\AppData\\Local\\Temp\\ipykernel_15976\\1800817001.py:18: ComplexWarning: Casting complex values to real discards the imaginary part\n",
      "  T1[3][0] = (1/2)*np.sin(delta)*(-No+Ne)/(Ne*Fo)\n",
      "C:\\Users\\Dieter\\AppData\\Local\\Temp\\ipykernel_15976\\1800817001.py:19: ComplexWarning: Casting complex values to real discards the imaginary part\n",
      "  T1[3][1] = (1/2)*Fo*np.sin(delta)*(No+Ne)/Ne\n",
      "C:\\Users\\Dieter\\AppData\\Local\\Temp\\ipykernel_15976\\1800817001.py:21: ComplexWarning: Casting complex values to real discards the imaginary part\n",
      "  T1[3][3] = Fe*np.cos(delta)\n"
     ]
    }
   ],
   "source": [
    "T1 = np.zeros((4, 4))\n",
    "\n",
    "T1[0][0] = np.cos(delta)/Fo \n",
    "T1[0][1] = 0\n",
    "T1[0][2] = -(1/2)*np.sin(delta)*(No+Ne)/(No*Fe)\n",
    "T1[0][3] = (1/2)*Fe*np.sin(delta)*(-No+Ne)/No\n",
    "\n",
    "T1[1][0] = 0\n",
    "T1[1][1] = Fo*np.cos(delta) \n",
    "T1[1][2] = (1/2)*np.sin(delta)*(-No+Ne)/(No*Fe) \n",
    "T1[1][3] = -(1/2)*Fe*np.sin(delta)*(No+Ne)/No\n",
    "\n",
    "T1[2][0] = (1/2)*np.sin(delta)*(No+Ne)/(Ne*Fo) \n",
    "T1[2][1] = (1/2)*Fo*np.sin(delta)*(-No+Ne)/Ne \n",
    "T1[2][2] = np.cos(delta)/Fe \n",
    "T1[2][3] = 0\n",
    "\n",
    "T1[3][0] = (1/2)*np.sin(delta)*(-No+Ne)/(Ne*Fo) \n",
    "T1[3][1] = (1/2)*Fo*np.sin(delta)*(No+Ne)/Ne \n",
    "T1[3][2] = 0 \n",
    "T1[3][3] = Fe*np.cos(delta)"
   ]
  },
  {
   "cell_type": "code",
   "execution_count": 31,
   "id": "7c0f989c",
   "metadata": {},
   "outputs": [
    {
     "data": {
      "text/plain": [
       "array([[ 5.41232184e-17,  0.00000000e+00, -9.04053669e-01,\n",
       "         4.53538630e-02],\n",
       "       [ 0.00000000e+00,  5.41232184e-17,  4.53538630e-02,\n",
       "        -9.04053669e-01],\n",
       "       [ 8.41674749e-01,  4.22244857e-02,  5.25801984e-17,\n",
       "         0.00000000e+00],\n",
       "       [ 4.22244857e-02,  8.41674749e-01,  0.00000000e+00,\n",
       "         5.25801984e-17]])"
      ]
     },
     "execution_count": 31,
     "metadata": {},
     "output_type": "execute_result"
    }
   ],
   "source": [
    "T1"
   ]
  },
  {
   "cell_type": "code",
   "execution_count": null,
   "id": "6140cd93",
   "metadata": {},
   "outputs": [],
   "source": []
  }
 ],
 "metadata": {
  "kernelspec": {
   "display_name": "Python 3 (ipykernel)",
   "language": "python",
   "name": "python3"
  },
  "language_info": {
   "codemirror_mode": {
    "name": "ipython",
    "version": 3
   },
   "file_extension": ".py",
   "mimetype": "text/x-python",
   "name": "python",
   "nbconvert_exporter": "python",
   "pygments_lexer": "ipython3",
   "version": "3.9.13"
  }
 },
 "nbformat": 4,
 "nbformat_minor": 5
}
